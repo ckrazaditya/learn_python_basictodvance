{
 "cells": [
  {
   "cell_type": "markdown",
   "id": "981a4bc9",
   "metadata": {},
   "source": [
    "## Tutorial - 1 of Basics of Python"
   ]
  },
  {
   "cell_type": "code",
   "execution_count": 3,
   "id": "769ab182",
   "metadata": {},
   "outputs": [],
   "source": [
    "# Print Function"
   ]
  },
  {
   "cell_type": "code",
   "execution_count": 2,
   "id": "6b682379",
   "metadata": {},
   "outputs": [
    {
     "name": "stdout",
     "output_type": "stream",
     "text": [
      "Hello World\n",
      "Welcome to my World\n"
     ]
    }
   ],
   "source": [
    "print(\"Hello World\")\n",
    "print(\"Welcome to my World\")"
   ]
  },
  {
   "cell_type": "code",
   "execution_count": 3,
   "id": "d9e733e4",
   "metadata": {},
   "outputs": [
    {
     "name": "stdout",
     "output_type": "stream",
     "text": [
      "Hello\n"
     ]
    }
   ],
   "source": [
    "# Single Line and Multiline Comments\n",
    "# this is a Single line comment.\n",
    "# for Multiple Line Comment is use 6 Quots.Example Given Below\n",
    "'''this is multiple line comment'''\n",
    "\n",
    "print(\"Hello\")"
   ]
  },
  {
   "cell_type": "code",
   "execution_count": 4,
   "id": "b90efa1a",
   "metadata": {},
   "outputs": [
    {
     "data": {
      "text/plain": [
       "int"
      ]
     },
     "execution_count": 4,
     "metadata": {},
     "output_type": "execute_result"
    }
   ],
   "source": [
    "# Variable declaration\n",
    "\n",
    "a = 10\n",
    "\n",
    "type(a)  # Show Data type we use type()"
   ]
  },
  {
   "cell_type": "code",
   "execution_count": 5,
   "id": "6c521344",
   "metadata": {},
   "outputs": [
    {
     "name": "stdout",
     "output_type": "stream",
     "text": [
      "10\n"
     ]
    }
   ],
   "source": [
    "print(a)"
   ]
  },
  {
   "cell_type": "code",
   "execution_count": 6,
   "id": "f9f55461",
   "metadata": {},
   "outputs": [],
   "source": [
    "tenth = 10\n",
    "b = 40\n",
    "c = \"Raz\""
   ]
  },
  {
   "cell_type": "code",
   "execution_count": 7,
   "id": "5ef61fba",
   "metadata": {},
   "outputs": [
    {
     "data": {
      "text/plain": [
       "str"
      ]
     },
     "execution_count": 7,
     "metadata": {},
     "output_type": "execute_result"
    }
   ],
   "source": [
    "type(c)"
   ]
  },
  {
   "cell_type": "code",
   "execution_count": 9,
   "id": "6fa7c94f",
   "metadata": {},
   "outputs": [],
   "source": [
    "# We can not start a varibale name with Number it shows Error (invalid syntax). Exapmle givent below\n",
    " #Ex : - 12name "
   ]
  },
  {
   "cell_type": "code",
   "execution_count": 10,
   "id": "d9ba1d5a",
   "metadata": {},
   "outputs": [
    {
     "ename": "SyntaxError",
     "evalue": "invalid syntax (3334370253.py, line 1)",
     "output_type": "error",
     "traceback": [
      "\u001b[1;36m  Cell \u001b[1;32mIn[10], line 1\u001b[1;36m\u001b[0m\n\u001b[1;33m    12name  = \"Raaz\"\u001b[0m\n\u001b[1;37m      ^\u001b[0m\n\u001b[1;31mSyntaxError\u001b[0m\u001b[1;31m:\u001b[0m invalid syntax\n"
     ]
    }
   ],
   "source": [
    "12name  = \"Raaz\""
   ]
  },
  {
   "cell_type": "code",
   "execution_count": 12,
   "id": "fe5c0cd4",
   "metadata": {},
   "outputs": [
    {
     "name": "stdout",
     "output_type": "stream",
     "text": [
      "Raaz\n"
     ]
    }
   ],
   "source": [
    "first_name = \"Raaz\"\n",
    "print(first_name)"
   ]
  },
  {
   "cell_type": "code",
   "execution_count": 13,
   "id": "5f780bea",
   "metadata": {},
   "outputs": [
    {
     "data": {
      "text/plain": [
       "int"
      ]
     },
     "execution_count": 13,
     "metadata": {},
     "output_type": "execute_result"
    }
   ],
   "source": [
    "## intergers\n",
    "a = 10\n",
    "type(a)"
   ]
  },
  {
   "cell_type": "code",
   "execution_count": 14,
   "id": "5d790742",
   "metadata": {},
   "outputs": [
    {
     "data": {
      "text/plain": [
       "20"
      ]
     },
     "execution_count": 14,
     "metadata": {},
     "output_type": "execute_result"
    }
   ],
   "source": [
    "a+10"
   ]
  },
  {
   "cell_type": "code",
   "execution_count": 15,
   "id": "b71027ca",
   "metadata": {},
   "outputs": [
    {
     "data": {
      "text/plain": [
       "200"
      ]
     },
     "execution_count": 15,
     "metadata": {},
     "output_type": "execute_result"
    }
   ],
   "source": [
    "a*20"
   ]
  },
  {
   "cell_type": "code",
   "execution_count": 16,
   "id": "53f4a923",
   "metadata": {},
   "outputs": [
    {
     "data": {
      "text/plain": [
       "1.0"
      ]
     },
     "execution_count": 16,
     "metadata": {},
     "output_type": "execute_result"
    }
   ],
   "source": [
    "a/10"
   ]
  },
  {
   "cell_type": "code",
   "execution_count": 17,
   "id": "bef52525",
   "metadata": {},
   "outputs": [
    {
     "data": {
      "text/plain": [
       "1"
      ]
     },
     "execution_count": 17,
     "metadata": {},
     "output_type": "execute_result"
    }
   ],
   "source": [
    "a//10"
   ]
  },
  {
   "cell_type": "code",
   "execution_count": 18,
   "id": "e75c7058",
   "metadata": {},
   "outputs": [
    {
     "data": {
      "text/plain": [
       "0"
      ]
     },
     "execution_count": 18,
     "metadata": {},
     "output_type": "execute_result"
    }
   ],
   "source": [
    "a%10"
   ]
  },
  {
   "cell_type": "code",
   "execution_count": 19,
   "id": "009debe2",
   "metadata": {},
   "outputs": [
    {
     "name": "stdout",
     "output_type": "stream",
     "text": [
      "<class 'int'>\n"
     ]
    }
   ],
   "source": [
    "print(type(a))"
   ]
  },
  {
   "cell_type": "code",
   "execution_count": 20,
   "id": "66fa951d",
   "metadata": {},
   "outputs": [
    {
     "name": "stdout",
     "output_type": "stream",
     "text": [
      "30\n"
     ]
    }
   ],
   "source": [
    "a = 10\n",
    "b = 20\n",
    "print(a+b)"
   ]
  },
  {
   "cell_type": "code",
   "execution_count": 23,
   "id": "75aa3e1b",
   "metadata": {},
   "outputs": [],
   "source": [
    "#floating \n",
    "a = 190.5"
   ]
  },
  {
   "cell_type": "code",
   "execution_count": 24,
   "id": "f7fca5ee",
   "metadata": {},
   "outputs": [
    {
     "name": "stdout",
     "output_type": "stream",
     "text": [
      "190.5\n"
     ]
    }
   ],
   "source": [
    "print(a)"
   ]
  },
  {
   "cell_type": "code",
   "execution_count": 22,
   "id": "6d089d73",
   "metadata": {},
   "outputs": [
    {
     "data": {
      "text/plain": [
       "float"
      ]
     },
     "execution_count": 22,
     "metadata": {},
     "output_type": "execute_result"
    }
   ],
   "source": [
    "type(a)"
   ]
  },
  {
   "cell_type": "code",
   "execution_count": 25,
   "id": "0af1be3c",
   "metadata": {},
   "outputs": [],
   "source": [
    "# convert float to int is called (Type casting)"
   ]
  },
  {
   "cell_type": "code",
   "execution_count": 26,
   "id": "5b04eb3e",
   "metadata": {},
   "outputs": [
    {
     "data": {
      "text/plain": [
       "190"
      ]
     },
     "execution_count": 26,
     "metadata": {},
     "output_type": "execute_result"
    }
   ],
   "source": [
    "int(a)"
   ]
  },
  {
   "cell_type": "code",
   "execution_count": null,
   "id": "01bf36eb",
   "metadata": {},
   "outputs": [],
   "source": [
    "# Convert int to float is called (Type casting)"
   ]
  },
  {
   "cell_type": "code",
   "execution_count": 27,
   "id": "33e7a524",
   "metadata": {},
   "outputs": [
    {
     "data": {
      "text/plain": [
       "20.0"
      ]
     },
     "execution_count": 27,
     "metadata": {},
     "output_type": "execute_result"
    }
   ],
   "source": [
    "float(b)"
   ]
  },
  {
   "cell_type": "code",
   "execution_count": 28,
   "id": "ca0760b6",
   "metadata": {},
   "outputs": [],
   "source": [
    "#Boolean"
   ]
  },
  {
   "cell_type": "code",
   "execution_count": 29,
   "id": "f0769357",
   "metadata": {},
   "outputs": [],
   "source": [
    "a1  = True\n",
    "b1 = False"
   ]
  },
  {
   "cell_type": "code",
   "execution_count": 30,
   "id": "f7be04d0",
   "metadata": {},
   "outputs": [
    {
     "data": {
      "text/plain": [
       "bool"
      ]
     },
     "execution_count": 30,
     "metadata": {},
     "output_type": "execute_result"
    }
   ],
   "source": [
    "type(a1)"
   ]
  },
  {
   "cell_type": "code",
   "execution_count": 32,
   "id": "f9784374",
   "metadata": {},
   "outputs": [
    {
     "data": {
      "text/plain": [
       "False"
      ]
     },
     "execution_count": 32,
     "metadata": {},
     "output_type": "execute_result"
    }
   ],
   "source": [
    "a1 and b1"
   ]
  },
  {
   "cell_type": "code",
   "execution_count": 33,
   "id": "88d19785",
   "metadata": {},
   "outputs": [
    {
     "data": {
      "text/plain": [
       "True"
      ]
     },
     "execution_count": 33,
     "metadata": {},
     "output_type": "execute_result"
    }
   ],
   "source": [
    "a1 or b1"
   ]
  },
  {
   "cell_type": "code",
   "execution_count": 34,
   "id": "ef564019",
   "metadata": {},
   "outputs": [
    {
     "data": {
      "text/plain": [
       "True"
      ]
     },
     "execution_count": 34,
     "metadata": {},
     "output_type": "execute_result"
    }
   ],
   "source": [
    "a1 | b1  #(Or = |)"
   ]
  },
  {
   "cell_type": "code",
   "execution_count": 36,
   "id": "a3cd5906",
   "metadata": {},
   "outputs": [
    {
     "name": "stdout",
     "output_type": "stream",
     "text": [
      "Raaz\n",
      "<class 'str'>\n"
     ]
    }
   ],
   "source": [
    "#Strings\n",
    "name1 = \"Raaz\"\n",
    "print(name1)\n",
    "print(type(name1))"
   ]
  },
  {
   "cell_type": "code",
   "execution_count": 39,
   "id": "2fefd010",
   "metadata": {},
   "outputs": [
    {
     "ename": "TypeError",
     "evalue": "can only concatenate str (not \"int\") to str",
     "output_type": "error",
     "traceback": [
      "\u001b[1;31m---------------------------------------------------------------------------\u001b[0m",
      "\u001b[1;31mTypeError\u001b[0m                                 Traceback (most recent call last)",
      "Cell \u001b[1;32mIn[39], line 1\u001b[0m\n\u001b[1;32m----> 1\u001b[0m \u001b[43mname1\u001b[49m\u001b[43m \u001b[49m\u001b[38;5;241;43m+\u001b[39;49m\u001b[43m \u001b[49m\u001b[38;5;241;43m1\u001b[39;49m  \u001b[38;5;66;03m# daynamic typing and strong typing\u001b[39;00m\n",
      "\u001b[1;31mTypeError\u001b[0m: can only concatenate str (not \"int\") to str"
     ]
    }
   ],
   "source": [
    "name1 + 1  # daynamic typing and strong typing"
   ]
  },
  {
   "cell_type": "code",
   "execution_count": 40,
   "id": "fca03902",
   "metadata": {},
   "outputs": [
    {
     "data": {
      "text/plain": [
       "'Raaz1'"
      ]
     },
     "execution_count": 40,
     "metadata": {},
     "output_type": "execute_result"
    }
   ],
   "source": [
    "name1 + str(1) # daynamic typing and strong typing "
   ]
  },
  {
   "cell_type": "code",
   "execution_count": 42,
   "id": "ab10c119",
   "metadata": {},
   "outputs": [
    {
     "data": {
      "text/plain": [
       "(1-2.3j)"
      ]
     },
     "execution_count": 42,
     "metadata": {},
     "output_type": "execute_result"
    }
   ],
   "source": [
    "#complex Number\n",
    "j = 1.0-2.3j \n",
    "j"
   ]
  },
  {
   "cell_type": "code",
   "execution_count": 43,
   "id": "a038cc47",
   "metadata": {},
   "outputs": [
    {
     "name": "stdout",
     "output_type": "stream",
     "text": [
      "1.0 -2.3\n"
     ]
    }
   ],
   "source": [
    "print(j.real,j.imag)"
   ]
  },
  {
   "cell_type": "code",
   "execution_count": 44,
   "id": "0615f4fa",
   "metadata": {},
   "outputs": [],
   "source": [
    "#dynamic Typing"
   ]
  },
  {
   "cell_type": "code",
   "execution_count": 45,
   "id": "ca453b99",
   "metadata": {},
   "outputs": [],
   "source": [
    "a = 10\n",
    "a = \"Raaz\""
   ]
  },
  {
   "cell_type": "code",
   "execution_count": 48,
   "id": "e6476410",
   "metadata": {},
   "outputs": [],
   "source": [
    "#strong typing\n",
    "a = 'Raaz'"
   ]
  },
  {
   "cell_type": "code",
   "execution_count": 49,
   "id": "54e10adb",
   "metadata": {},
   "outputs": [
    {
     "data": {
      "text/plain": [
       "'Raaz1'"
      ]
     },
     "execution_count": 49,
     "metadata": {},
     "output_type": "execute_result"
    }
   ],
   "source": [
    "a + '1'"
   ]
  },
  {
   "cell_type": "code",
   "execution_count": 51,
   "id": "0ac40dcf",
   "metadata": {},
   "outputs": [
    {
     "data": {
      "text/plain": [
       "'Raaz1'"
      ]
     },
     "execution_count": 51,
     "metadata": {},
     "output_type": "execute_result"
    }
   ],
   "source": [
    "a + str(1)"
   ]
  },
  {
   "cell_type": "code",
   "execution_count": 52,
   "id": "1bfdb8e8",
   "metadata": {},
   "outputs": [],
   "source": [
    "#string formatting"
   ]
  },
  {
   "cell_type": "code",
   "execution_count": 53,
   "id": "1191cdba",
   "metadata": {},
   "outputs": [
    {
     "name": "stdout",
     "output_type": "stream",
     "text": [
      "The value is -  100\n"
     ]
    }
   ],
   "source": [
    "a = 100\n",
    "\n",
    "print(\"The value is - \",a)"
   ]
  },
  {
   "cell_type": "code",
   "execution_count": 57,
   "id": "e51334ce",
   "metadata": {},
   "outputs": [
    {
     "name": "stdout",
     "output_type": "stream",
     "text": [
      "The first name is Raaz and last name is Developer\n"
     ]
    }
   ],
   "source": [
    "first_name = \"Raaz\"\n",
    "last_name = \"Developer\"\n",
    "print(\"The first name is {} and last name is {}\".format(first_name,last_name))"
   ]
  },
  {
   "cell_type": "code",
   "execution_count": 58,
   "id": "acc6b316",
   "metadata": {},
   "outputs": [
    {
     "name": "stdout",
     "output_type": "stream",
     "text": [
      "The first name is Raaz and last name is Developer\n"
     ]
    }
   ],
   "source": [
    "first_name = \"Raaz\"\n",
    "last_name = \"Developer\"\n",
    "print(\"The first name is {0} and last name is {1}\".format(first_name,last_name))"
   ]
  },
  {
   "cell_type": "code",
   "execution_count": 59,
   "id": "8c5392da",
   "metadata": {},
   "outputs": [
    {
     "name": "stdout",
     "output_type": "stream",
     "text": [
      "The first name is Developer and last name is Raaz\n"
     ]
    }
   ],
   "source": [
    "# when i change formatting last name to first name\n",
    "first_name = \"Raaz\"\n",
    "last_name = \"Developer\"\n",
    "print(\"The first name is {0} and last name is {1}\".format(last_name,first_name))"
   ]
  },
  {
   "cell_type": "code",
   "execution_count": 60,
   "id": "c0f924b3",
   "metadata": {},
   "outputs": [
    {
     "name": "stdout",
     "output_type": "stream",
     "text": [
      "The first name is Raaz and last name is Developer\n"
     ]
    }
   ],
   "source": [
    "#When i change the place holder value\n",
    "first_name = \"Raaz\"\n",
    "last_name = \"Developer\"\n",
    "print(\"The first name is {1} and last name is {0}\".format(last_name,first_name))"
   ]
  },
  {
   "cell_type": "code",
   "execution_count": 61,
   "id": "d3d7876d",
   "metadata": {},
   "outputs": [
    {
     "name": "stdout",
     "output_type": "stream",
     "text": [
      "The first name is Raaz and last name is Developer\n"
     ]
    }
   ],
   "source": [
    "#When i assign the placeholder value\n",
    "first_name = \"Raaz\"\n",
    "last_name = \"Developer\"\n",
    "print(\"The first name is {a} and last name is {b}\".format(b = last_name,a = first_name))"
   ]
  },
  {
   "cell_type": "code",
   "execution_count": 62,
   "id": "b3d0149b",
   "metadata": {},
   "outputs": [
    {
     "name": "stdout",
     "output_type": "stream",
     "text": [
      "Enter the nameRaaz\n"
     ]
    },
    {
     "data": {
      "text/plain": [
       "'Raaz'"
      ]
     },
     "execution_count": 62,
     "metadata": {},
     "output_type": "execute_result"
    }
   ],
   "source": [
    "## input type\n",
    "input(\"Enter the name\")"
   ]
  },
  {
   "cell_type": "code",
   "execution_count": 67,
   "id": "e52f07fa",
   "metadata": {},
   "outputs": [
    {
     "name": "stdout",
     "output_type": "stream",
     "text": [
      "Enter the number A = 50\n",
      "Enter the number B = 50\n",
      "100\n"
     ]
    }
   ],
   "source": [
    "# input type\n",
    "a = input(\"Enter the number A = \")\n",
    "b = input(\"Enter the number B = \")\n",
    "print(int(a)+int(b))"
   ]
  },
  {
   "cell_type": "code",
   "execution_count": null,
   "id": "de0619a4",
   "metadata": {},
   "outputs": [],
   "source": []
  }
 ],
 "metadata": {
  "kernelspec": {
   "display_name": "Python 3 (ipykernel)",
   "language": "python",
   "name": "python3"
  },
  "language_info": {
   "codemirror_mode": {
    "name": "ipython",
    "version": 3
   },
   "file_extension": ".py",
   "mimetype": "text/x-python",
   "name": "python",
   "nbconvert_exporter": "python",
   "pygments_lexer": "ipython3",
   "version": "3.9.8"
  }
 },
 "nbformat": 4,
 "nbformat_minor": 5
}
